{
 "cells": [
  {
   "cell_type": "code",
   "execution_count": 62,
   "metadata": {
    "collapsed": false
   },
   "outputs": [],
   "source": [
    "import pandas as pd\n",
    "import numpy as np\n",
    "import matplotlib.pyplot as plt\n",
    "%matplotlib inline\n",
    "\n",
    "rawdata = pd.read_csv(\"data/stocks-us-adjClose.csv\")"
   ]
  },
  {
   "cell_type": "code",
   "execution_count": null,
   "metadata": {
    "collapsed": true
   },
   "outputs": [],
   "source": [
    "# df1: rename date column appropriately, and convert datatype from string to Timestamp\n",
    "dict1 = {rawdata.columns[0]: 'date'}\n",
    "\n",
    "df1 = rawdata.rename(columns=dict1, inplace=False)\n",
    "df1['date'] = pd.to_datetime(df1['date'])\n",
    "df_revisions = {'df1': 'date column appropriately named and converted to Timestamp'}\n",
    "type(df1['date'][0])"
   ]
  },
  {
   "cell_type": "code",
   "execution_count": 72,
   "metadata": {
    "collapsed": true
   },
   "outputs": [],
   "source": [
    "# df2: create new time columns: year, week, year-week\n",
    "df2 = df1\n",
    "df2['year'] = df2['date'].apply(lambda date: date.strftime('%Y'))\n",
    "df2['week#'] = df2['date'].apply(lambda date: date.strftime('%W'))\n",
    "df2['year_week#'] = df2['date'].apply(lambda date: date.strftime('%Y wk%W'))\n",
    "# setting new date columns to appear first:\n",
    "new_columns_list = ['year', 'year_week#', 'week#']\n",
    "df2 = df2.set_index(new_columns_list).reset_index()"
   ]
  },
  {
   "cell_type": "code",
   "execution_count": 86,
   "metadata": {
    "collapsed": false
   },
   "outputs": [],
   "source": [
    "# groupby: weekly\n",
    "df_weekly = df2.groupby('year_week#').mean()"
   ]
  },
  {
   "cell_type": "code",
   "execution_count": 95,
   "metadata": {
    "collapsed": false
   },
   "outputs": [
    {
     "data": {
      "image/png": "[encoded data removed]",
      "text/plain": [
       "<matplotlib.figure.Figure at 0x2b50487c2b0>"
      ]
     },
     "metadata": {},
     "output_type": "display_data"
    }
   ],
   "source": [
    "plottitle = 'Plot of Data Availability Per Year'\n",
    "showplot=True\n",
    "\n",
    "df_annual = df2.groupby('year').mean()\n",
    "df_years_avail = df_annual.transpose().count()\n",
    "\n",
    "if showplot:\n",
    "    fig = plt.figure()\n",
    "    axes = fig.add_axes()\n",
    "    plt.plot(df_years_avail)\n",
    "    plt.title(plottitle)\n",
    "    plt.ylabel('# of stocks')\n",
    "    plt.show()\n",
    "\n",
    "    # same plot, except x-label is simply 'year'\n",
    "    #df_years_avail.sort_index().plot()\n",
    "    #plt.show()"
   ]
  },
  {
   "cell_type": "markdown",
   "metadata": {},
   "source": [
    "# data prep for a neural network \n",
    "\n",
    "## supervised learning: binary outcome "
   ]
  },
  {
   "cell_type": "code",
   "execution_count": 96,
   "metadata": {
    "collapsed": false,
    "scrolled": false
   },
   "outputs": [
    {
     "data": {
      "text/html": [
       "<div>\n",
       "<style scoped>\n",
       "    .dataframe tbody tr th:only-of-type {\n",
       "        vertical-align: middle;\n",
       "    }\n",
       "\n",
       "    .dataframe tbody tr th {\n",
       "        vertical-align: top;\n",
       "    }\n",
       "\n",
       "    .dataframe thead th {\n",
       "        text-align: right;\n",
       "    }\n",
       "</style>\n",
       "<table border=\"1\" class=\"dataframe\">\n",
       "  <thead>\n",
       "    <tr style=\"text-align: right;\">\n",
       "      <th></th>\n",
       "      <th>ED</th>\n",
       "      <th>DD</th>\n",
       "      <th>CVX</th>\n",
       "      <th>FL</th>\n",
       "      <th>CAT</th>\n",
       "      <th>IP</th>\n",
       "      <th>SJW</th>\n",
       "      <th>F</th>\n",
       "      <th>LLY</th>\n",
       "      <th>AVP</th>\n",
       "      <th>...</th>\n",
       "      <th>EXTN</th>\n",
       "      <th>VYGR</th>\n",
       "      <th>ACG</th>\n",
       "      <th>MIME</th>\n",
       "      <th>TCRZ</th>\n",
       "      <th>MCX</th>\n",
       "      <th>EDIT</th>\n",
       "      <th>LMHA</th>\n",
       "      <th>UA</th>\n",
       "      <th>BTU</th>\n",
       "    </tr>\n",
       "    <tr>\n",
       "      <th>year_week#</th>\n",
       "      <th></th>\n",
       "      <th></th>\n",
       "      <th></th>\n",
       "      <th></th>\n",
       "      <th></th>\n",
       "      <th></th>\n",
       "      <th></th>\n",
       "      <th></th>\n",
       "      <th></th>\n",
       "      <th></th>\n",
       "      <th></th>\n",
       "      <th></th>\n",
       "      <th></th>\n",
       "      <th></th>\n",
       "      <th></th>\n",
       "      <th></th>\n",
       "      <th></th>\n",
       "      <th></th>\n",
       "      <th></th>\n",
       "      <th></th>\n",
       "      <th></th>\n",
       "    </tr>\n",
       "  </thead>\n",
       "  <tbody>\n",
       "    <tr>\n",
       "      <th>1970 wk00</th>\n",
       "      <td>0.307997</td>\n",
       "      <td>0.000480</td>\n",
       "      <td>0.582503</td>\n",
       "      <td>1.857836</td>\n",
       "      <td>1.475225</td>\n",
       "      <td>1.808415</td>\n",
       "      <td>NaN</td>\n",
       "      <td>NaN</td>\n",
       "      <td>NaN</td>\n",
       "      <td>NaN</td>\n",
       "      <td>...</td>\n",
       "      <td>NaN</td>\n",
       "      <td>NaN</td>\n",
       "      <td>NaN</td>\n",
       "      <td>NaN</td>\n",
       "      <td>NaN</td>\n",
       "      <td>NaN</td>\n",
       "      <td>NaN</td>\n",
       "      <td>NaN</td>\n",
       "      <td>NaN</td>\n",
       "      <td>NaN</td>\n",
       "    </tr>\n",
       "    <tr>\n",
       "      <th>1970 wk01</th>\n",
       "      <td>0.315412</td>\n",
       "      <td>0.000473</td>\n",
       "      <td>0.582503</td>\n",
       "      <td>1.822623</td>\n",
       "      <td>1.412129</td>\n",
       "      <td>1.837964</td>\n",
       "      <td>NaN</td>\n",
       "      <td>NaN</td>\n",
       "      <td>NaN</td>\n",
       "      <td>NaN</td>\n",
       "      <td>...</td>\n",
       "      <td>NaN</td>\n",
       "      <td>NaN</td>\n",
       "      <td>NaN</td>\n",
       "      <td>NaN</td>\n",
       "      <td>NaN</td>\n",
       "      <td>NaN</td>\n",
       "      <td>NaN</td>\n",
       "      <td>NaN</td>\n",
       "      <td>NaN</td>\n",
       "      <td>NaN</td>\n",
       "    </tr>\n",
       "  </tbody>\n",
       "</table>\n",
       "<p>2 rows × 710 columns</p>\n",
       "</div>"
      ],
      "text/plain": [
       "                  ED        DD       CVX        FL       CAT        IP  SJW  \\\n",
       "year_week#                                                                    \n",
       "1970 wk00   0.307997  0.000480  0.582503  1.857836  1.475225  1.808415  NaN   \n",
       "1970 wk01   0.315412  0.000473  0.582503  1.822623  1.412129  1.837964  NaN   \n",
       "\n",
       "             F  LLY  AVP ...   EXTN  VYGR  ACG  MIME  TCRZ  MCX  EDIT  LMHA  \\\n",
       "year_week#               ...                                                  \n",
       "1970 wk00  NaN  NaN  NaN ...    NaN   NaN  NaN   NaN   NaN  NaN   NaN   NaN   \n",
       "1970 wk01  NaN  NaN  NaN ...    NaN   NaN  NaN   NaN   NaN  NaN   NaN   NaN   \n",
       "\n",
       "            UA  BTU  \n",
       "year_week#           \n",
       "1970 wk00  NaN  NaN  \n",
       "1970 wk01  NaN  NaN  \n",
       "\n",
       "[2 rows x 710 columns]"
      ]
     },
     "execution_count": 96,
     "metadata": {},
     "output_type": "execute_result"
    }
   ],
   "source": [
    "df_weekly.head(2)"
   ]
  },
  {
   "cell_type": "markdown",
   "metadata": {
    "collapsed": true
   },
   "source": [
    "### calc ups and downs\n",
    "1. 1-yr delta $$(t_1-t_0)$$\n",
    "2. all yrs, 1 stock\n",
    "3. all stocks"
   ]
  },
  {
   "cell_type": "code",
   "execution_count": 13,
   "metadata": {
    "collapsed": true
   },
   "outputs": [],
   "source": [
    "delta_threshold = 0.1"
   ]
  },
  {
   "cell_type": "markdown",
   "metadata": {
    "collapsed": false
   },
   "source": [
    "#1.\n",
    "    # a. current, transposed form\n",
    "    #df_weekly_t.loc['ED', ['1970', '1971']]\n",
    "\n",
    "    # b. original, un-transposed form\n",
    "z = df_weekly.loc[['1970','1971'],'ED']\n",
    "zz = z\n",
    "zz[0] = 0\n",
    "zz[1] = z[1] - z[0] > delta_threshold\n",
    "\n",
    "#2.\n",
    "ED = df_weekly_t.loc['ED']\n",
    "#2.a: subset\n",
    "#EDh = ED.head()\n",
    "#EDh[1] - EDh[0] > delta_threshold\n",
    "\n",
    "#2.b. loop-approach\n",
    "#ED[1] - ED[0] > delta_threshold\n",
    "df_weekly.head(2)"
   ]
  },
  {
   "cell_type": "markdown",
   "metadata": {},
   "source": [
    "## WARNING: \n",
    "The following block modifies the original price data in df_weekly.\n",
    "This is because ED and ED_delta are POINTERS, not separate, indep datatypes.\n",
    "Ok for now."
   ]
  },
  {
   "cell_type": "markdown",
   "metadata": {
    "collapsed": false
   },
   "source": [
    "ED_delta = ED\n",
    "ED_delta[0] = 0\n",
    "for i in range(len(ED)-1):\n",
    "    #print(\"ED[{}] minus ED[{}]\".format(i+1, i))\n",
    "    ED_delta[i] = ED[i+1] - ED[i] > delta_threshold\n",
    "\n",
    "#### 2.c.? vectorized approach"
   ]
  },
  {
   "cell_type": "code",
   "execution_count": 14,
   "metadata": {
    "collapsed": false
   },
   "outputs": [
    {
     "data": {
      "text/plain": [
       "0.320831"
      ]
     },
     "execution_count": 14,
     "metadata": {},
     "output_type": "execute_result"
    }
   ],
   "source": [
    "# rawdata is maintained\n",
    "rawdata.iloc[1,1]"
   ]
  },
  {
   "cell_type": "markdown",
   "metadata": {},
   "source": [
    "## TASK:\n",
    "The last row should be calculated, and is not currently done."
   ]
  },
  {
   "cell_type": "code",
   "execution_count": 15,
   "metadata": {
    "collapsed": false
   },
   "outputs": [
    {
     "data": {
      "text/html": [
       "<div>\n",
       "<style scoped>\n",
       "    .dataframe tbody tr th:only-of-type {\n",
       "        vertical-align: middle;\n",
       "    }\n",
       "\n",
       "    .dataframe tbody tr th {\n",
       "        vertical-align: top;\n",
       "    }\n",
       "\n",
       "    .dataframe thead th {\n",
       "        text-align: right;\n",
       "    }\n",
       "</style>\n",
       "<table border=\"1\" class=\"dataframe\">\n",
       "  <thead>\n",
       "    <tr style=\"text-align: right;\">\n",
       "      <th></th>\n",
       "      <th>ED</th>\n",
       "      <th>DD</th>\n",
       "      <th>CVX</th>\n",
       "      <th>FL</th>\n",
       "      <th>CAT</th>\n",
       "      <th>IP</th>\n",
       "      <th>SJW</th>\n",
       "      <th>F</th>\n",
       "      <th>LLY</th>\n",
       "      <th>AVP</th>\n",
       "      <th>...</th>\n",
       "      <th>EXTN</th>\n",
       "      <th>VYGR</th>\n",
       "      <th>ACG</th>\n",
       "      <th>MIME</th>\n",
       "      <th>TCRZ</th>\n",
       "      <th>MCX</th>\n",
       "      <th>EDIT</th>\n",
       "      <th>LMHA</th>\n",
       "      <th>UA</th>\n",
       "      <th>BTU</th>\n",
       "    </tr>\n",
       "    <tr>\n",
       "      <th>year</th>\n",
       "      <th></th>\n",
       "      <th></th>\n",
       "      <th></th>\n",
       "      <th></th>\n",
       "      <th></th>\n",
       "      <th></th>\n",
       "      <th></th>\n",
       "      <th></th>\n",
       "      <th></th>\n",
       "      <th></th>\n",
       "      <th></th>\n",
       "      <th></th>\n",
       "      <th></th>\n",
       "      <th></th>\n",
       "      <th></th>\n",
       "      <th></th>\n",
       "      <th></th>\n",
       "      <th></th>\n",
       "      <th></th>\n",
       "      <th></th>\n",
       "      <th></th>\n",
       "    </tr>\n",
       "  </thead>\n",
       "  <tbody>\n",
       "    <tr>\n",
       "      <th>2016</th>\n",
       "      <td>70.875459</td>\n",
       "      <td>64.573471</td>\n",
       "      <td>95.081116</td>\n",
       "      <td>62.699782</td>\n",
       "      <td>75.764173</td>\n",
       "      <td>41.664344</td>\n",
       "      <td>39.575695</td>\n",
       "      <td>11.848510</td>\n",
       "      <td>73.970544</td>\n",
       "      <td>4.677976</td>\n",
       "      <td>...</td>\n",
       "      <td>15.421825</td>\n",
       "      <td>12.501508</td>\n",
       "      <td>NaN</td>\n",
       "      <td>13.009980</td>\n",
       "      <td>23.298239</td>\n",
       "      <td>23.077322</td>\n",
       "      <td>23.712598</td>\n",
       "      <td>25.640315</td>\n",
       "      <td>33.981705</td>\n",
       "      <td>NaN</td>\n",
       "    </tr>\n",
       "    <tr>\n",
       "      <th>2017</th>\n",
       "      <td>78.300586</td>\n",
       "      <td>78.451687</td>\n",
       "      <td>106.738288</td>\n",
       "      <td>61.272114</td>\n",
       "      <td>101.251551</td>\n",
       "      <td>52.953227</td>\n",
       "      <td>50.047040</td>\n",
       "      <td>11.410892</td>\n",
       "      <td>80.252411</td>\n",
       "      <td>4.078035</td>\n",
       "      <td>...</td>\n",
       "      <td>28.498844</td>\n",
       "      <td>10.633931</td>\n",
       "      <td>NaN</td>\n",
       "      <td>24.085433</td>\n",
       "      <td>25.101622</td>\n",
       "      <td>25.406869</td>\n",
       "      <td>19.051445</td>\n",
       "      <td>26.075409</td>\n",
       "      <td>19.098150</td>\n",
       "      <td>26.099459</td>\n",
       "    </tr>\n",
       "  </tbody>\n",
       "</table>\n",
       "<p>2 rows × 710 columns</p>\n",
       "</div>"
      ],
      "text/plain": [
       "             ED         DD         CVX         FL         CAT         IP  \\\n",
       "year                                                                       \n",
       "2016  70.875459  64.573471   95.081116  62.699782   75.764173  41.664344   \n",
       "2017  78.300586  78.451687  106.738288  61.272114  101.251551  52.953227   \n",
       "\n",
       "            SJW          F        LLY       AVP    ...           EXTN  \\\n",
       "year                                               ...                  \n",
       "2016  39.575695  11.848510  73.970544  4.677976    ...      15.421825   \n",
       "2017  50.047040  11.410892  80.252411  4.078035    ...      28.498844   \n",
       "\n",
       "           VYGR  ACG       MIME       TCRZ        MCX       EDIT       LMHA  \\\n",
       "year                                                                          \n",
       "2016  12.501508  NaN  13.009980  23.298239  23.077322  23.712598  25.640315   \n",
       "2017  10.633931  NaN  24.085433  25.101622  25.406869  19.051445  26.075409   \n",
       "\n",
       "             UA        BTU  \n",
       "year                        \n",
       "2016  33.981705        NaN  \n",
       "2017  19.098150  26.099459  \n",
       "\n",
       "[2 rows x 710 columns]"
      ]
     },
     "execution_count": 15,
     "metadata": {},
     "output_type": "execute_result"
    }
   ],
   "source": [
    "df_weekly.tail(2)"
   ]
  },
  {
   "cell_type": "markdown",
   "metadata": {
    "collapsed": true
   },
   "source": [
    "#3.\n",
    "tickers = df_weekly.columns\n",
    "i = 1\n",
    "this_stock = df_weekly_t.loc[tickers[i]]\n",
    "this_stock = this_stock.head()\n",
    "\n",
    "this_delta = this_stock\n",
    "this_delta[0] = 0\n",
    "for i in range(len(this_stock)-1):\n",
    "    this_delta[i] = this_stock[i+1] - this_stock[i] > delta_threshold\n",
    "\n",
    "#3.c.? vectorized approach"
   ]
  },
  {
   "cell_type": "code",
   "execution_count": 16,
   "metadata": {
    "collapsed": false
   },
   "outputs": [],
   "source": [
    "# double-loop\n",
    "tickers = df_weekly.columns\n",
    "for stock in tickers:\n",
    "    this_stock = df_weekly_t.loc[stock]\n",
    "    #this_h = this_stock.head()\n",
    "\n",
    "    this_delta = this_stock\n",
    "    this_delta[0] = 0\n",
    "    for i in range(len(this_stock)-1):\n",
    "        this_delta[i] = this_stock[i+1] - this_stock[i] > delta_threshold\n",
    "\n",
    "#3.c.? vectorized approach"
   ]
  },
  {
   "cell_type": "code",
   "execution_count": 17,
   "metadata": {
    "collapsed": false
   },
   "outputs": [
    {
     "data": {
      "text/html": [
       "<div>\n",
       "<style scoped>\n",
       "    .dataframe tbody tr th:only-of-type {\n",
       "        vertical-align: middle;\n",
       "    }\n",
       "\n",
       "    .dataframe tbody tr th {\n",
       "        vertical-align: top;\n",
       "    }\n",
       "\n",
       "    .dataframe thead th {\n",
       "        text-align: right;\n",
       "    }\n",
       "</style>\n",
       "<table border=\"1\" class=\"dataframe\">\n",
       "  <thead>\n",
       "    <tr style=\"text-align: right;\">\n",
       "      <th></th>\n",
       "      <th>ED</th>\n",
       "      <th>DD</th>\n",
       "      <th>CVX</th>\n",
       "      <th>FL</th>\n",
       "      <th>CAT</th>\n",
       "      <th>IP</th>\n",
       "      <th>SJW</th>\n",
       "      <th>F</th>\n",
       "      <th>LLY</th>\n",
       "      <th>AVP</th>\n",
       "      <th>...</th>\n",
       "      <th>EXTN</th>\n",
       "      <th>VYGR</th>\n",
       "      <th>ACG</th>\n",
       "      <th>MIME</th>\n",
       "      <th>TCRZ</th>\n",
       "      <th>MCX</th>\n",
       "      <th>EDIT</th>\n",
       "      <th>LMHA</th>\n",
       "      <th>UA</th>\n",
       "      <th>BTU</th>\n",
       "    </tr>\n",
       "    <tr>\n",
       "      <th>year</th>\n",
       "      <th></th>\n",
       "      <th></th>\n",
       "      <th></th>\n",
       "      <th></th>\n",
       "      <th></th>\n",
       "      <th></th>\n",
       "      <th></th>\n",
       "      <th></th>\n",
       "      <th></th>\n",
       "      <th></th>\n",
       "      <th></th>\n",
       "      <th></th>\n",
       "      <th></th>\n",
       "      <th></th>\n",
       "      <th></th>\n",
       "      <th></th>\n",
       "      <th></th>\n",
       "      <th></th>\n",
       "      <th></th>\n",
       "      <th></th>\n",
       "      <th></th>\n",
       "    </tr>\n",
       "  </thead>\n",
       "  <tbody>\n",
       "    <tr>\n",
       "      <th>2007</th>\n",
       "      <td>0.000000</td>\n",
       "      <td>0.000000</td>\n",
       "      <td>1.000000</td>\n",
       "      <td>0.000000</td>\n",
       "      <td>0.000000</td>\n",
       "      <td>0.000000</td>\n",
       "      <td>0.00000</td>\n",
       "      <td>0.000000</td>\n",
       "      <td>0.000000</td>\n",
       "      <td>0.000000</td>\n",
       "      <td>...</td>\n",
       "      <td>0.000000</td>\n",
       "      <td>0.000000</td>\n",
       "      <td>0.0</td>\n",
       "      <td>0.000000</td>\n",
       "      <td>0.000000</td>\n",
       "      <td>0.000000</td>\n",
       "      <td>0.000000</td>\n",
       "      <td>0.000000</td>\n",
       "      <td>0.00000</td>\n",
       "      <td>0.000000</td>\n",
       "    </tr>\n",
       "    <tr>\n",
       "      <th>2008</th>\n",
       "      <td>1.000000</td>\n",
       "      <td>1.000000</td>\n",
       "      <td>0.000000</td>\n",
       "      <td>0.000000</td>\n",
       "      <td>0.000000</td>\n",
       "      <td>0.000000</td>\n",
       "      <td>0.00000</td>\n",
       "      <td>1.000000</td>\n",
       "      <td>0.000000</td>\n",
       "      <td>0.000000</td>\n",
       "      <td>...</td>\n",
       "      <td>0.000000</td>\n",
       "      <td>0.000000</td>\n",
       "      <td>0.0</td>\n",
       "      <td>0.000000</td>\n",
       "      <td>0.000000</td>\n",
       "      <td>0.000000</td>\n",
       "      <td>0.000000</td>\n",
       "      <td>0.000000</td>\n",
       "      <td>0.00000</td>\n",
       "      <td>0.000000</td>\n",
       "    </tr>\n",
       "    <tr>\n",
       "      <th>2009</th>\n",
       "      <td>1.000000</td>\n",
       "      <td>1.000000</td>\n",
       "      <td>1.000000</td>\n",
       "      <td>1.000000</td>\n",
       "      <td>1.000000</td>\n",
       "      <td>1.000000</td>\n",
       "      <td>1.00000</td>\n",
       "      <td>1.000000</td>\n",
       "      <td>1.000000</td>\n",
       "      <td>1.000000</td>\n",
       "      <td>...</td>\n",
       "      <td>0.000000</td>\n",
       "      <td>0.000000</td>\n",
       "      <td>0.0</td>\n",
       "      <td>0.000000</td>\n",
       "      <td>0.000000</td>\n",
       "      <td>0.000000</td>\n",
       "      <td>0.000000</td>\n",
       "      <td>0.000000</td>\n",
       "      <td>0.00000</td>\n",
       "      <td>0.000000</td>\n",
       "    </tr>\n",
       "    <tr>\n",
       "      <th>2010</th>\n",
       "      <td>1.000000</td>\n",
       "      <td>0.000000</td>\n",
       "      <td>1.000000</td>\n",
       "      <td>1.000000</td>\n",
       "      <td>1.000000</td>\n",
       "      <td>1.000000</td>\n",
       "      <td>0.00000</td>\n",
       "      <td>1.000000</td>\n",
       "      <td>1.000000</td>\n",
       "      <td>0.000000</td>\n",
       "      <td>...</td>\n",
       "      <td>0.000000</td>\n",
       "      <td>0.000000</td>\n",
       "      <td>0.0</td>\n",
       "      <td>0.000000</td>\n",
       "      <td>0.000000</td>\n",
       "      <td>0.000000</td>\n",
       "      <td>0.000000</td>\n",
       "      <td>0.000000</td>\n",
       "      <td>0.00000</td>\n",
       "      <td>0.000000</td>\n",
       "    </tr>\n",
       "    <tr>\n",
       "      <th>2011</th>\n",
       "      <td>1.000000</td>\n",
       "      <td>0.000000</td>\n",
       "      <td>1.000000</td>\n",
       "      <td>1.000000</td>\n",
       "      <td>0.000000</td>\n",
       "      <td>1.000000</td>\n",
       "      <td>1.00000</td>\n",
       "      <td>0.000000</td>\n",
       "      <td>1.000000</td>\n",
       "      <td>0.000000</td>\n",
       "      <td>...</td>\n",
       "      <td>0.000000</td>\n",
       "      <td>0.000000</td>\n",
       "      <td>0.0</td>\n",
       "      <td>0.000000</td>\n",
       "      <td>0.000000</td>\n",
       "      <td>0.000000</td>\n",
       "      <td>0.000000</td>\n",
       "      <td>0.000000</td>\n",
       "      <td>0.00000</td>\n",
       "      <td>0.000000</td>\n",
       "    </tr>\n",
       "    <tr>\n",
       "      <th>2012</th>\n",
       "      <td>1.000000</td>\n",
       "      <td>1.000000</td>\n",
       "      <td>1.000000</td>\n",
       "      <td>1.000000</td>\n",
       "      <td>0.000000</td>\n",
       "      <td>1.000000</td>\n",
       "      <td>1.00000</td>\n",
       "      <td>1.000000</td>\n",
       "      <td>1.000000</td>\n",
       "      <td>1.000000</td>\n",
       "      <td>...</td>\n",
       "      <td>0.000000</td>\n",
       "      <td>0.000000</td>\n",
       "      <td>1.0</td>\n",
       "      <td>0.000000</td>\n",
       "      <td>0.000000</td>\n",
       "      <td>0.000000</td>\n",
       "      <td>0.000000</td>\n",
       "      <td>0.000000</td>\n",
       "      <td>0.00000</td>\n",
       "      <td>0.000000</td>\n",
       "    </tr>\n",
       "    <tr>\n",
       "      <th>2013</th>\n",
       "      <td>1.000000</td>\n",
       "      <td>1.000000</td>\n",
       "      <td>1.000000</td>\n",
       "      <td>1.000000</td>\n",
       "      <td>1.000000</td>\n",
       "      <td>1.000000</td>\n",
       "      <td>1.00000</td>\n",
       "      <td>1.000000</td>\n",
       "      <td>1.000000</td>\n",
       "      <td>0.000000</td>\n",
       "      <td>...</td>\n",
       "      <td>0.000000</td>\n",
       "      <td>0.000000</td>\n",
       "      <td>1.0</td>\n",
       "      <td>0.000000</td>\n",
       "      <td>0.000000</td>\n",
       "      <td>0.000000</td>\n",
       "      <td>0.000000</td>\n",
       "      <td>0.000000</td>\n",
       "      <td>0.00000</td>\n",
       "      <td>0.000000</td>\n",
       "    </tr>\n",
       "    <tr>\n",
       "      <th>2014</th>\n",
       "      <td>1.000000</td>\n",
       "      <td>1.000000</td>\n",
       "      <td>0.000000</td>\n",
       "      <td>1.000000</td>\n",
       "      <td>0.000000</td>\n",
       "      <td>1.000000</td>\n",
       "      <td>1.00000</td>\n",
       "      <td>0.000000</td>\n",
       "      <td>1.000000</td>\n",
       "      <td>0.000000</td>\n",
       "      <td>...</td>\n",
       "      <td>0.000000</td>\n",
       "      <td>0.000000</td>\n",
       "      <td>0.0</td>\n",
       "      <td>0.000000</td>\n",
       "      <td>0.000000</td>\n",
       "      <td>0.000000</td>\n",
       "      <td>0.000000</td>\n",
       "      <td>0.000000</td>\n",
       "      <td>0.00000</td>\n",
       "      <td>0.000000</td>\n",
       "    </tr>\n",
       "    <tr>\n",
       "      <th>2015</th>\n",
       "      <td>1.000000</td>\n",
       "      <td>1.000000</td>\n",
       "      <td>1.000000</td>\n",
       "      <td>1.000000</td>\n",
       "      <td>1.000000</td>\n",
       "      <td>0.000000</td>\n",
       "      <td>1.00000</td>\n",
       "      <td>0.000000</td>\n",
       "      <td>0.000000</td>\n",
       "      <td>0.000000</td>\n",
       "      <td>...</td>\n",
       "      <td>0.000000</td>\n",
       "      <td>0.000000</td>\n",
       "      <td>0.0</td>\n",
       "      <td>1.000000</td>\n",
       "      <td>1.000000</td>\n",
       "      <td>0.000000</td>\n",
       "      <td>0.000000</td>\n",
       "      <td>0.000000</td>\n",
       "      <td>0.00000</td>\n",
       "      <td>0.000000</td>\n",
       "    </tr>\n",
       "    <tr>\n",
       "      <th>2016</th>\n",
       "      <td>1.000000</td>\n",
       "      <td>1.000000</td>\n",
       "      <td>1.000000</td>\n",
       "      <td>0.000000</td>\n",
       "      <td>1.000000</td>\n",
       "      <td>1.000000</td>\n",
       "      <td>1.00000</td>\n",
       "      <td>0.000000</td>\n",
       "      <td>1.000000</td>\n",
       "      <td>0.000000</td>\n",
       "      <td>...</td>\n",
       "      <td>1.000000</td>\n",
       "      <td>0.000000</td>\n",
       "      <td>0.0</td>\n",
       "      <td>1.000000</td>\n",
       "      <td>1.000000</td>\n",
       "      <td>1.000000</td>\n",
       "      <td>0.000000</td>\n",
       "      <td>1.000000</td>\n",
       "      <td>0.00000</td>\n",
       "      <td>0.000000</td>\n",
       "    </tr>\n",
       "    <tr>\n",
       "      <th>2017</th>\n",
       "      <td>78.300586</td>\n",
       "      <td>78.451687</td>\n",
       "      <td>106.738288</td>\n",
       "      <td>61.272114</td>\n",
       "      <td>101.251551</td>\n",
       "      <td>52.953227</td>\n",
       "      <td>50.04704</td>\n",
       "      <td>11.410892</td>\n",
       "      <td>80.252411</td>\n",
       "      <td>4.078035</td>\n",
       "      <td>...</td>\n",
       "      <td>28.498844</td>\n",
       "      <td>10.633931</td>\n",
       "      <td>NaN</td>\n",
       "      <td>24.085433</td>\n",
       "      <td>25.101622</td>\n",
       "      <td>25.406869</td>\n",
       "      <td>19.051445</td>\n",
       "      <td>26.075409</td>\n",
       "      <td>19.09815</td>\n",
       "      <td>26.099459</td>\n",
       "    </tr>\n",
       "  </tbody>\n",
       "</table>\n",
       "<p>11 rows × 710 columns</p>\n",
       "</div>"
      ],
      "text/plain": [
       "             ED         DD         CVX         FL         CAT         IP  \\\n",
       "year                                                                       \n",
       "2007   0.000000   0.000000    1.000000   0.000000    0.000000   0.000000   \n",
       "2008   1.000000   1.000000    0.000000   0.000000    0.000000   0.000000   \n",
       "2009   1.000000   1.000000    1.000000   1.000000    1.000000   1.000000   \n",
       "2010   1.000000   0.000000    1.000000   1.000000    1.000000   1.000000   \n",
       "2011   1.000000   0.000000    1.000000   1.000000    0.000000   1.000000   \n",
       "2012   1.000000   1.000000    1.000000   1.000000    0.000000   1.000000   \n",
       "2013   1.000000   1.000000    1.000000   1.000000    1.000000   1.000000   \n",
       "2014   1.000000   1.000000    0.000000   1.000000    0.000000   1.000000   \n",
       "2015   1.000000   1.000000    1.000000   1.000000    1.000000   0.000000   \n",
       "2016   1.000000   1.000000    1.000000   0.000000    1.000000   1.000000   \n",
       "2017  78.300586  78.451687  106.738288  61.272114  101.251551  52.953227   \n",
       "\n",
       "           SJW          F        LLY       AVP    ...           EXTN  \\\n",
       "year                                              ...                  \n",
       "2007   0.00000   0.000000   0.000000  0.000000    ...       0.000000   \n",
       "2008   0.00000   1.000000   0.000000  0.000000    ...       0.000000   \n",
       "2009   1.00000   1.000000   1.000000  1.000000    ...       0.000000   \n",
       "2010   0.00000   1.000000   1.000000  0.000000    ...       0.000000   \n",
       "2011   1.00000   0.000000   1.000000  0.000000    ...       0.000000   \n",
       "2012   1.00000   1.000000   1.000000  1.000000    ...       0.000000   \n",
       "2013   1.00000   1.000000   1.000000  0.000000    ...       0.000000   \n",
       "2014   1.00000   0.000000   1.000000  0.000000    ...       0.000000   \n",
       "2015   1.00000   0.000000   0.000000  0.000000    ...       0.000000   \n",
       "2016   1.00000   0.000000   1.000000  0.000000    ...       1.000000   \n",
       "2017  50.04704  11.410892  80.252411  4.078035    ...      28.498844   \n",
       "\n",
       "           VYGR  ACG       MIME       TCRZ        MCX       EDIT       LMHA  \\\n",
       "year                                                                          \n",
       "2007   0.000000  0.0   0.000000   0.000000   0.000000   0.000000   0.000000   \n",
       "2008   0.000000  0.0   0.000000   0.000000   0.000000   0.000000   0.000000   \n",
       "2009   0.000000  0.0   0.000000   0.000000   0.000000   0.000000   0.000000   \n",
       "2010   0.000000  0.0   0.000000   0.000000   0.000000   0.000000   0.000000   \n",
       "2011   0.000000  0.0   0.000000   0.000000   0.000000   0.000000   0.000000   \n",
       "2012   0.000000  1.0   0.000000   0.000000   0.000000   0.000000   0.000000   \n",
       "2013   0.000000  1.0   0.000000   0.000000   0.000000   0.000000   0.000000   \n",
       "2014   0.000000  0.0   0.000000   0.000000   0.000000   0.000000   0.000000   \n",
       "2015   0.000000  0.0   1.000000   1.000000   0.000000   0.000000   0.000000   \n",
       "2016   0.000000  0.0   1.000000   1.000000   1.000000   0.000000   1.000000   \n",
       "2017  10.633931  NaN  24.085433  25.101622  25.406869  19.051445  26.075409   \n",
       "\n",
       "            UA        BTU  \n",
       "year                       \n",
       "2007   0.00000   0.000000  \n",
       "2008   0.00000   0.000000  \n",
       "2009   0.00000   0.000000  \n",
       "2010   0.00000   0.000000  \n",
       "2011   0.00000   0.000000  \n",
       "2012   0.00000   0.000000  \n",
       "2013   0.00000   0.000000  \n",
       "2014   0.00000   0.000000  \n",
       "2015   0.00000   0.000000  \n",
       "2016   0.00000   0.000000  \n",
       "2017  19.09815  26.099459  \n",
       "\n",
       "[11 rows x 710 columns]"
      ]
     },
     "execution_count": 17,
     "metadata": {},
     "output_type": "execute_result"
    }
   ],
   "source": [
    "df_weekly.tail(11)"
   ]
  },
  {
   "cell_type": "code",
   "execution_count": 18,
   "metadata": {
    "collapsed": false
   },
   "outputs": [],
   "source": [
    "# Temporary workaround, this is NOT a fix but a warp of the data.\n",
    "df_weekly.loc['2017'] = 0"
   ]
  },
  {
   "cell_type": "markdown",
   "metadata": {},
   "source": [
    "# Outcome:\n",
    "it's a success; i can convert the enter df_weekly into binary.\n",
    "\n",
    "#### Accidental conversion from NaN into 0:\n",
    "\n",
    "0 indicates \"do not select this stock: it doesn't return above a threshold.\"\n",
    "\n",
    "NaN indicates \"you cannot select this stock\".  Fair enough"
   ]
  },
  {
   "cell_type": "markdown",
   "metadata": {},
   "source": [
    "#### Weekly averages\n"
   ]
  },
  {
   "cell_type": "code",
   "execution_count": null,
   "metadata": {
    "collapsed": true
   },
   "outputs": [],
   "source": []
  },
  {
   "cell_type": "markdown",
   "metadata": {
    "collapsed": true
   },
   "source": [
    "# Keras"
   ]
  },
  {
   "cell_type": "code",
   "execution_count": 19,
   "metadata": {
    "collapsed": false
   },
   "outputs": [
    {
     "data": {
      "text/plain": [
       "'2.1.3'"
      ]
     },
     "execution_count": 19,
     "metadata": {},
     "output_type": "execute_result"
    }
   ],
   "source": [
    "import keras   # doesn't consume too much memory\n",
    "keras.__version__"
   ]
  },
  {
   "cell_type": "code",
   "execution_count": 20,
   "metadata": {
    "collapsed": false
   },
   "outputs": [],
   "source": [
    "from keras.models import Sequential\n",
    "from keras.layers.core import Dense, Dropout, Activation\n",
    "from keras.utils import np_utils"
   ]
  },
  {
   "cell_type": "markdown",
   "metadata": {},
   "source": [
    "simplest type of model is the **Sequential** model, a linear stack of layers. For more complex architectures, you should use the _Keras functional API_\n",
    "https://keras.io/\n",
    "\n",
    "For **Dense** layers, the first parameter is the output size of the layer. Keras automatically handles the connections between layers.  (Note that the final layer for MNIST has an output size of 10, corresponding to the 10 classes of digits.)\n",
    "https://elitedatascience.com/keras-tutorial-deep-learning-in-python"
   ]
  },
  {
   "cell_type": "markdown",
   "metadata": {},
   "source": [
    "#### funny enough, this dummy data below is too insufficiently basic for the keras model to train. Can't set weights manually in keras.\n",
    "dmodel_01 = df1[['ED', 'DD']].head(2)\n",
    "dmodel_01\n",
    "nodes_per_layer = dmodel_01.shape\n",
    "\n",
    "#### This obviates my original plan:\n",
    "    ''' the worst neural network possible!\n",
    "    What makes this awful?\n",
    "    - a perceptron model (i.e., zero hidden layers; computational power can easily be done in Excel [productsum() function])\n",
    "    - feed-forward NN, thus it's not taking advantage of the time-series nature of its data.\n",
    "    - input: only 2 stocks.\n",
    "    - data size: only two business days -- the first two\n",
    "    '''"
   ]
  },
  {
   "cell_type": "code",
   "execution_count": null,
   "metadata": {
    "collapsed": true
   },
   "outputs": [],
   "source": [
    "num_stocks = df_weekly.shape[1]  # 710\n",
    "\n",
    "def build_model_01(nodes_per_layer=num_stocks):\n",
    "\n",
    "    model = Sequential()\n",
    "\n",
    "    # First layer:\n",
    "    model.add(Dense(units=nodes_per_layer, input_dim=nodes_per_layer, activation='sigmoid'))\n",
    "\n",
    "    # Output layer:\n",
    "    model.add(Dense(1))\n",
    "\n",
    "    model.compile(optimizer='sgd', loss='rmse', metrics=['accuracy'])\n",
    "    \n",
    "    return model"
   ]
  },
  {
   "cell_type": "code",
   "execution_count": null,
   "metadata": {
    "collapsed": true
   },
   "outputs": [],
   "source": [
    "# Show a model summary\n",
    "\n",
    "model_01 = build_model()\n",
    "model_01.summary()"
   ]
  },
  {
   "cell_type": "code",
   "execution_count": null,
   "metadata": {
    "collapsed": true
   },
   "outputs": [],
   "source": [
    "# Train on data\n",
    "\n",
    "model_01.fit(epochs=10)\n",
    "\n",
    "'''model_01.fit(X_train, Y_train, \n",
    "          batch_size=32, nb_epoch=10, verbose=1)\n",
    "'''"
   ]
  },
  {
   "cell_type": "code",
   "execution_count": null,
   "metadata": {
    "collapsed": true
   },
   "outputs": [],
   "source": [
    "num_stocks = df_weekly.shape[1]  # 710\n"
   ]
  },
  {
   "cell_type": "markdown",
   "metadata": {},
   "source": [
    "**Root Mean Squared Error** (RMSE) is the square root of the mean of the squared errors:\n",
    "- **RMSE** is even more popular than MSE, because RMSE is interpretable in the \"y\" units.\n",
    "$$\\sqrt{\\frac 1n\\sum_{i=1}^n(y_i-\\hat{y}_i)^2}$$\n"
   ]
  },
  {
   "cell_type": "code",
   "execution_count": null,
   "metadata": {
    "collapsed": true
   },
   "outputs": [],
   "source": []
  }
 ],
 "metadata": {
  "anaconda-cloud": {},
  "kernelspec": {
   "display_name": "Python [Root]",
   "language": "python",
   "name": "Python [Root]"
  },
  "language_info": {
   "codemirror_mode": {
    "name": "ipython",
    "version": 3
   },
   "file_extension": ".py",
   "mimetype": "text/x-python",
   "name": "python",
   "nbconvert_exporter": "python",
   "pygments_lexer": "ipython3",
   "version": "3.5.2"
  }
 },
 "nbformat": 4,
 "nbformat_minor": 2
}
